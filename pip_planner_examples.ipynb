{
 "cells": [
  {
   "cell_type": "code",
   "execution_count": 1,
   "metadata": {},
   "outputs": [],
   "source": [
    "from pip_library_etl import PipPlanner"
   ]
  },
  {
   "cell_type": "code",
   "execution_count": 5,
   "metadata": {},
   "outputs": [
    {
     "name": "stdout",
     "output_type": "stream",
     "text": [
      "{\n",
      "    \"tasks\": [\n",
      "        {\n",
      "            \"task_id\": 1,\n",
      "            \"function_name\": \"some_library.some_function\",\n",
      "            \"parameters\": [\n",
      "                {\n",
      "                    \"name\": \"url\",\n",
      "                    \"value\": \"https://math.stackexchange.com/questions/2779681/expected-number-of-die-rolls-to-get-6-given-that-all-rolls-are-even\",\n",
      "                    \"description\": \"URL of the page to be scraped\",\n",
      "                    \"dtype\": \"str\"\n",
      "                },\n",
      "                {\n",
      "                    \"name\": \"self\",\n",
      "                    \"value\": \"variable name to be passed for this parameter self.\",\n",
      "                    \"description\": \"An explanation of why the cariable should be used for this self parameter.\",\n",
      "                    \"dtype\": \"type annotation of the self parameter\"\n",
      "                }\n",
      "            ],\n",
      "            \"outputs\": [\n",
      "                \"variable_1\"\n",
      "            ],\n",
      "            \"description\": \"Scrape the content of the page and find all divs\"\n",
      "        }\n",
      "    ]\n",
      "}\n"
     ]
    }
   ],
   "source": [
    "import requests\n",
    "from bs4 import BeautifulSoup\n",
    "\n",
    "functions = [\n",
    "requests.get,\n",
    "BeautifulSoup,\n",
    "BeautifulSoup.find_all,\n",
    "]\n",
    "\n",
    " \n",
    "planner = PipPlanner(device='cloud', model_key=\"PipableAI/pipable-worflow-automaton-private-v0\")\n",
    "\n",
    "planner.register_functions(functions)\n",
    "\n",
    "plan = planner.generate_plan(\"get content of https://math.stackexchange.com/questions/2779681/expected-number-of-die-rolls-to-get-6-given-that-all-rolls-are-even, and find all the divs in it.\")\n",
    "\n",
    "print(plan)\n"
   ]
  },
  {
   "cell_type": "code",
   "execution_count": 6,
   "metadata": {},
   "outputs": [
    {
     "name": "stdout",
     "output_type": "stream",
     "text": [
      "{\n",
      "    \"tasks\": [\n",
      "        {\n",
      "            \"task_id\": 1,\n",
      "            \"function_name\": \"pandas.DataFrame\",\n",
      "            \"parameters\": [\n",
      "                {\n",
      "                    \"name\": \"data\",\n",
      "                    \"value\": \"{'a': [1, 2, 3], 'b': [4, 5, 6]}\",\n",
      "                    \"description\": \"Data to be converted into a DataFrame.\",\n",
      "                    \"dtype\": \"dict\"\n",
      "                }\n",
      "            ],\n",
      "            \"outputs\": [\n",
      "                \"variable_1\"\n",
      "            ],\n",
      "            \"description\": \"Creates a DataFrame from a dictionary.\"\n",
      "        },\n",
      "        {\n",
      "            \"task_id\": 2,\n",
      "            \"function_name\": \"describe\",\n",
      "            \"parameters\": [\n",
      "                {\n",
      "                    \"name\": \"self\",\n",
      "                    \"value\": \"variable_1\",\n",
      "                    \"description\": \"DataFrame to be described.\",\n",
      "                    \"dtype\": \"DataFrame\"\n",
      "                }\n",
      "            ],\n",
      "            \"outputs\": [\n",
      "                \"variable_2\"\n",
      "            ],\n",
      "            \"description\": \"Describes the DataFrame using the describe function.\"\n",
      "        }\n",
      "    ]\n",
      "}\n"
     ]
    }
   ],
   "source": [
    "import pandas as pd\n",
    "\n",
    "functions = [pd.DataFrame.from_dict, pd.DataFrame.describe]\n",
    "\n",
    "planner.register_functions(functions)\n",
    "\n",
    "plan = planner.generate_plan(\"create a dataframe from dictionary {'a':[1,2,3],'b':[4,5,6] } and describe it\")\n",
    "\n",
    "print(plan)"
   ]
  }
 ],
 "metadata": {
  "kernelspec": {
   "display_name": "Python 3",
   "language": "python",
   "name": "python3"
  },
  "language_info": {
   "codemirror_mode": {
    "name": "ipython",
    "version": 3
   },
   "file_extension": ".py",
   "mimetype": "text/x-python",
   "name": "python",
   "nbconvert_exporter": "python",
   "pygments_lexer": "ipython3",
   "version": "3.10.14"
  }
 },
 "nbformat": 4,
 "nbformat_minor": 2
}
