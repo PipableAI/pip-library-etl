{
 "cells": [
  {
   "cell_type": "code",
   "execution_count": 1,
   "metadata": {},
   "outputs": [],
   "source": [
    "from pip_library_etl import PipPlanner"
   ]
  },
  {
   "cell_type": "code",
   "execution_count": 2,
   "metadata": {},
   "outputs": [],
   "source": [
    "import requests\n",
    "from bs4 import BeautifulSoup\n",
    "\n",
    "# functions = [\n",
    "# requests.get,\n",
    "# BeautifulSoup,\n",
    "# BeautifulSoup.find_all,\n",
    "# ]\n",
    "\n",
    " \n",
    "planner = PipPlanner(device='cloud', model_key=\"PipableAI/pipable-worflow-automaton-private-v0\")\n",
    "\n",
    "# planner.register_functions(functions)\n",
    "\n",
    "# plan = planner.generate_plan(\"get the content of https://google.com, create beautiful soup class and find all divs in it\")\n",
    "\n",
    "# print(plan)\n"
   ]
  },
  {
   "cell_type": "code",
   "execution_count": null,
   "metadata": {},
   "outputs": [],
   "source": [
    "print(planner.plan_to_code(plan))"
   ]
  },
  {
   "cell_type": "code",
   "execution_count": null,
   "metadata": {},
   "outputs": [],
   "source": [
    "import requests\n",
    "from bs4 import BeautifulSoup\n",
    "\n",
    "# Fetch the content of the URL\n",
    "url = 'https://google.com'\n",
    "response = requests.api.get(url)\n",
    "\n",
    "# Parse the HTML content\n",
    "soup = BeautifulSoup(response.text, 'html.parser')\n",
    "\n",
    "# Find all div elements\n",
    "divs = soup.find_all('div')\n",
    "\n",
    "# Assign the fetched data to a variable\n",
    "# This is just an example, you can assign it to any variable of your choice\n",
    "divs_data = divs\n",
    "divs_data"
   ]
  },
  {
   "cell_type": "code",
   "execution_count": 3,
   "metadata": {},
   "outputs": [
    {
     "name": "stdout",
     "output_type": "stream",
     "text": [
      "{\n",
      "    \"tasks\": [\n",
      "        {\n",
      "            \"task_id\": 1,\n",
      "            \"function_name\": \"from_dict\",\n",
      "            \"parameters\": [\n",
      "                {\n",
      "                    \"name\": \"data\",\n",
      "                    \"value\": \"{'a':[1,2,3],'b':[4,5,6] }\",\n",
      "                    \"description\": \"Data to be converted into a DataFrame.\",\n",
      "                    \"dtype\": \"dict\"\n",
      "                },\n",
      "                {\n",
      "                    \"name\": \"orient\",\n",
      "                    \"value\": \"'columns'\",\n",
      "                    \"description\": \"Orientation of the DataFrame.\",\n",
      "                    \"dtype\": \"str\"\n",
      "                },\n",
      "                {\n",
      "                    \"name\": \"dtype\",\n",
      "                    \"value\": \"null\",\n",
      "                    \"description\": \"Data type to force after DataFrame construction.\",\n",
      "                    \"dtype\": \"dtype\"\n",
      "                },\n",
      "                {\n",
      "                    \"name\": \"columns\",\n",
      "                    \"value\": \"null\",\n",
      "                    \"description\": \"Column names to use when orient is 'index'.\",\n",
      "                    \"dtype\": \"list\"\n",
      "                }\n",
      "            ],\n",
      "            \"outputs\": [\n",
      "                \"variable_1\"\n",
      "            ],\n",
      "            \"description\": \"Creates a DataFrame from a dictionary of arrays-like or dicts.\"\n",
      "        },\n",
      "        {\n",
      "            \"task_id\": 2,\n",
      "            \"function_name\": \"describe\",\n",
      "            \"parameters\": [\n",
      "                {\n",
      "                    \"name\": \"self\",\n",
      "                    \"value\": \"variable_1\",\n",
      "                    \"description\": \"DataFrame to describe.\",\n",
      "                    \"dtype\": \"DataFrame\"\n",
      "                }\n",
      "            ],\n",
      "            \"outputs\": [\n",
      "                \"variable_2\"\n",
      "            ],\n",
      "            \"description\": \"Generates descriptive statistics for the DataFrame.\"\n",
      "        }\n",
      "    ]\n",
      "}\n"
     ]
    }
   ],
   "source": [
    "import pandas as pd\n",
    "\n",
    "functions = [pd.DataFrame.from_dict, pd.DataFrame.describe]\n",
    "\n",
    "planner.register_functions(functions)\n",
    "\n",
    "plan = planner.generate_plan(\"create a dataframe from dictionary {'a':[1,2,3],'b':[4,5,6] } and describe it\")\n",
    "\n",
    "print(plan)"
   ]
  },
  {
   "cell_type": "code",
   "execution_count": 4,
   "metadata": {},
   "outputs": [
    {
     "name": "stdout",
     "output_type": "stream",
     "text": [
      "\n",
      "Sure, here is the Python code that executes the plan using the provided function calls:\n",
      "\n",
      "```python\n",
      "import pandas as pd\n",
      "\n",
      "# Create a DataFrame from a dictionary of arrays-like or dicts\n",
      "df = pd.from_dict({'a': [1, 2, 3], 'b': [4, 5, 6]}, orient='columns')\n",
      "\n",
      "# Describe the DataFrame\n",
      "desc = df.describe()\n",
      "```\n",
      "\n",
      "This code will create a DataFrame from a dictionary of arrays-like or dicts, and then describe the DataFrame. The result will be stored in the `desc` variable.\n",
      "\n"
     ]
    }
   ],
   "source": [
    "print(planner.plan_to_code(plan))"
   ]
  },
  {
   "cell_type": "code",
   "execution_count": null,
   "metadata": {},
   "outputs": [],
   "source": []
  }
 ],
 "metadata": {
  "kernelspec": {
   "display_name": "Python 3",
   "language": "python",
   "name": "python3"
  },
  "language_info": {
   "codemirror_mode": {
    "name": "ipython",
    "version": 3
   },
   "file_extension": ".py",
   "mimetype": "text/x-python",
   "name": "python",
   "nbconvert_exporter": "python",
   "pygments_lexer": "ipython3",
   "version": "3.10.13"
  }
 },
 "nbformat": 4,
 "nbformat_minor": 2
}
