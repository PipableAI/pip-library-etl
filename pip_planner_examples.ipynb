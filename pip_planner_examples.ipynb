{
 "cells": [
  {
   "cell_type": "code",
   "execution_count": 1,
   "metadata": {},
   "outputs": [],
   "source": [
    "from pip_library_etl import PipPlanner"
   ]
  },
  {
   "cell_type": "code",
   "execution_count": 6,
   "metadata": {},
   "outputs": [
    {
     "name": "stdout",
     "output_type": "stream",
     "text": [
      "\n",
      "<functions>\n",
      "['--name:get\\n--annotations:(url, params=None, **kwargs)\\n--doc:Sends a GET request.\\n\\n    :param url: URL for the new :class:`Request` object.\\n    :param params: (optional) Dictionary, list of tuples or bytes to send\\n        in the query string for the :class:`Request`.\\n    :param \\\\*\\\\*kwargs: Optional arguments that ``request`` takes.\\n    :return: :class:`Response <Response>` object\\n    :rtype: requests.Response\\n    \\n\\n', '--name:BeautifulSoup\\n--annotations:(markup=\\'\\', features=None, builder=None, parse_only=None, from_encoding=None, exclude_encodings=None, element_classes=None, **kwargs)\\n--doc:A data structure representing a parsed HTML or XML document.\\n\\n    Most of the methods you\\'ll call on a BeautifulSoup object are inherited from\\n    PageElement or Tag.\\n\\n    Internally, this class defines the basic interface called by the\\n    tree builders when converting an HTML/XML document into a data\\n    structure. The interface abstracts away the differences between\\n    parsers. To write a new tree builder, you\\'ll need to understand\\n    these methods as a whole.\\n\\n    These methods will be called by the BeautifulSoup constructor:\\n      * reset()\\n      * feed(markup)\\n\\n    The tree builder may call these methods from its feed() implementation:\\n      * handle_starttag(name, attrs) # See note about return value\\n      * handle_endtag(name)\\n      * handle_data(data) # Appends to the current data node\\n      * endData(containerClass) # Ends the current data node\\n\\n    No matter how complicated the underlying parser is, you should be\\n    able to build a tree using \\'start tag\\' events, \\'end tag\\' events,\\n    \\'data\\' events, and \"done with data\" events.\\n\\n    If you encounter an empty-element tag (aka a self-closing tag,\\n    like HTML\\'s <br> tag), call handle_starttag and then\\n    handle_endtag.\\n    \\n\\n', \"--name:find_all\\n--annotations:(self, name=None, attrs={}, recursive=True, string=None, limit=None, **kwargs)\\n--doc:Look in the children of this PageElement and find all\\n        PageElements that match the given criteria.\\n\\n        All find_* methods take a common set of arguments. See the online\\n        documentation for detailed explanations.\\n\\n        :param name: A filter on tag name.\\n        :param attrs: A dictionary of filters on attribute values.\\n        :param recursive: If this is True, find_all() will perform a\\n            recursive search of this PageElement's children. Otherwise,\\n            only the direct children will be considered.\\n        :param limit: Stop looking after finding this many results.\\n        :kwargs: A dictionary of filters on attribute values.\\n        :return: A ResultSet of PageElements.\\n        :rtype: bs4.element.ResultSet\\n        \\n\\n\"]\n",
      "</functions>\n",
      "<json_structure>\n",
      "{{\n",
      "  \"tasks\": [\n",
      "    {{\n",
      "      \"task_id\": 1,\n",
      "      \"function_name\": \"function name\",\n",
      "      \"parameters\": [\n",
      "        {{\n",
      "        \"name\":\"name of this parameter according to annotations.\",\n",
      "        \"value\":\"value to be passed for this parameter\",\n",
      "        \"dtype\":\"type annotation of the variable\",\n",
      "        \"description\": \"An explanation of why this value should be utilized.\"\n",
      "        }},\n",
      "        {{\n",
      "        \"name\":\"self\",\n",
      "        \"value\":\"variable name to be passed for this parameter self.\",\n",
      "        \"dtype\":\"type annotation of the self parameter\",\n",
      "        \"description\": \"An explanation of why the cariable should be used for this self parameter.\"\n",
      "        }}\n",
      "      ],\n",
      "      \"outputs\": [\"variable_1\"],\n",
      "      \"description\": \"some description\"\n",
      "    }},\n",
      "    {{\n",
      "      \"task_id\": 2,\n",
      "      \"function_name\": \"function name\",\n",
      "      \"parameters\": [\n",
      "        {{\n",
      "        \"name\":\"self\",\n",
      "        \"value\":\"variable name to be passed for this parameter self.\",\n",
      "        \"dtype\":\"type annotation of the self parameter\",\n",
      "        \"description\": \"An explanation of why the cariable should be used for this self parameter.\"\n",
      "        }},\n",
      "        {{,\n",
      "        \"name\":\"name of this parameter according to annotations.\",\n",
      "        \"value\":\"value to be passed for this parameter\",\n",
      "        \"dtype\":\"type annotation of the variable\",\n",
      "        \"description\": \"An explanation of why this value should be utilized.\"\n",
      "        }}\n",
      "      ],\n",
      "      \"outputs\": [\"variable_2\"],\n",
      "      \"description\": \"some description\"\n",
      "    }}\n",
      "  ]\n",
      "}}\n",
      "\n",
      "</json_structure>\n",
      "<instructions>\n",
      "- use self parameter with proper value based on the question.\n",
      "- name outputs as variable_1 , variable_2 , variable_3 , variable_4 and more variables in chronological order.\n",
      "- give attention to the type annotation of the parameter given while filling values.\n",
      "\n",
      "</instructions>\n",
      "<question>\n",
      "Given the above functions,\n",
      "- Do not give the parameters in json which have null values and default values of the function, only give the sequencial function calls with parameters to execute the below question:\n",
      "\n",
      "</question>\n",
      "<json>\n",
      "\n"
     ]
    }
   ],
   "source": [
    "import requests\n",
    "from bs4 import BeautifulSoup\n",
    "\n",
    "functions = [\n",
    "requests.get,\n",
    "BeautifulSoup,\n",
    "BeautifulSoup.find_all,\n",
    "]\n",
    "\n",
    " \n",
    "planner = PipPlanner(device='cloud', model_key=\"PipableAI/pipable-worflow-automaton-private-v1\")\n",
    "\n",
    "# planner\n",
    "# planner.register_functions(functions)\n",
    "\n",
    "# print(planner.make_planner_prompt_template(base_prompt=None))\n",
    "# plan = planner.generate_plan(\"get the content of https://google.com, create beautiful soup class and find all divs in it\")\n",
    "\n",
    "# print(plan)\n"
   ]
  },
  {
   "cell_type": "code",
   "execution_count": null,
   "metadata": {},
   "outputs": [],
   "source": [
    "print(planner.plan_to_code(plan))"
   ]
  },
  {
   "cell_type": "code",
   "execution_count": null,
   "metadata": {},
   "outputs": [],
   "source": [
    "import pandas as pd\n",
    "\n",
    "functions = [pd.DataFrame.from_dict, pd.DataFrame.describe]\n",
    "\n",
    "planner.register_functions(functions)\n",
    "\n",
    "plan = planner.generate_plan(\"create a dataframe from dictionary {'a':[1,2,3],'b':[4,5,6] } and describe it\")\n",
    "\n",
    "print(plan)"
   ]
  },
  {
   "cell_type": "code",
   "execution_count": null,
   "metadata": {},
   "outputs": [],
   "source": [
    "print(planner.plan_to_code(plan))"
   ]
  },
  {
   "cell_type": "code",
   "execution_count": null,
   "metadata": {},
   "outputs": [],
   "source": []
  }
 ],
 "metadata": {
  "kernelspec": {
   "display_name": "Python 3",
   "language": "python",
   "name": "python3"
  },
  "language_info": {
   "codemirror_mode": {
    "name": "ipython",
    "version": 3
   },
   "file_extension": ".py",
   "mimetype": "text/x-python",
   "name": "python",
   "nbconvert_exporter": "python",
   "pygments_lexer": "ipython3",
   "version": "3.10.13"
  }
 },
 "nbformat": 4,
 "nbformat_minor": 2
}
