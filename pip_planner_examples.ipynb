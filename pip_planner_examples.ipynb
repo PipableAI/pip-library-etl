{
 "cells": [
  {
   "cell_type": "code",
   "execution_count": 1,
   "metadata": {},
   "outputs": [],
   "source": [
    "from pip_library_etl import PipPlanner"
   ]
  },
  {
   "cell_type": "code",
   "execution_count": 2,
   "metadata": {},
   "outputs": [
    {
     "name": "stdout",
     "output_type": "stream",
     "text": [
      "{\n",
      "    \"tasks\": [\n",
      "        {\n",
      "            \"task_id\": 1,\n",
      "            \"function_name\": \"requests.get\",\n",
      "            \"parameters\": [\n",
      "                {\n",
      "                    \"name\": \"url\",\n",
      "                    \"value\": \"https://google.com\",\n",
      "                    \"description\": \"URL to be accessed\",\n",
      "                    \"dtype\": \"str\"\n",
      "                }\n",
      "            ],\n",
      "            \"outputs\": [\n",
      "                \"response\"\n",
      "            ],\n",
      "            \"description\": \"Sends a GET request to fetch the content of the specified URL.\"\n",
      "        },\n",
      "        {\n",
      "            \"task_id\": 2,\n",
      "            \"function_name\": \"BeautifulSoup\",\n",
      "            \"parameters\": [\n",
      "                {\n",
      "                    \"name\": \"markup\",\n",
      "                    \"value\": \"response\",\n",
      "                    \"description\": \"HTML content of the page\",\n",
      "                    \"dtype\": \"str\"\n",
      "                }\n",
      "            ],\n",
      "            \"outputs\": [\n",
      "                \"soup\"\n",
      "            ],\n",
      "            \"description\": \"Parses the HTML content of the page using BeautifulSoup.\"\n",
      "        },\n",
      "        {\n",
      "            \"task_id\": 3,\n",
      "            \"function_name\": \"find_all\",\n",
      "            \"parameters\": [\n",
      "                {\n",
      "                    \"name\": \"name\",\n",
      "                    \"value\": \"div\",\n",
      "                    \"description\": \"Name of the HTML tag to find\",\n",
      "                    \"dtype\": \"str\"\n",
      "                },\n",
      "                {\n",
      "                    \"name\": \"soup\",\n",
      "                    \"value\": \"soup\",\n",
      "                    \"description\": \"BeautifulSoup object containing the HTML content\",\n",
      "                    \"dtype\": \"BeautifulSoup object\"\n",
      "                }\n",
      "            ],\n",
      "            \"outputs\": [\n",
      "                \"divs\"\n",
      "            ],\n",
      "            \"description\": \"Finds all div elements in the HTML content.\"\n",
      "        }\n",
      "    ]\n",
      "}\n"
     ]
    }
   ],
   "source": [
    "import requests\n",
    "from bs4 import BeautifulSoup\n",
    "\n",
    "functions = [\n",
    "requests.get,\n",
    "BeautifulSoup,\n",
    "BeautifulSoup.find_all,\n",
    "]\n",
    "\n",
    " \n",
    "planner = PipPlanner(device='cloud', model_key=\"PipableAI/base-model-test-planning-data-2\")\n",
    "\n",
    "planner.register_functions(functions)\n",
    "\n",
    "plan = planner.generate_plan(\"get content of https://google.com, and find all the divs in it.\")\n",
    "\n",
    "print(plan)\n"
   ]
  },
  {
   "cell_type": "code",
   "execution_count": null,
   "metadata": {},
   "outputs": [],
   "source": [
    "response = requests.get(url=\"https://google.com\")\n",
    "bsoup = BeautifulSoup(markup=response.content)\n",
    "div_elements = BeautifulSoup.find_all(self=bsoup, name=\"div\")\n"
   ]
  },
  {
   "cell_type": "code",
   "execution_count": null,
   "metadata": {},
   "outputs": [],
   "source": [
    "import pandas as pd\n",
    "\n",
    "functions = [pd.read_csv, pd.DataFrame.describe, pd.DataFrame.filter, pd.DataFrame.to_clipboard, pd.Series.abs, pd.Series.to_dict, pd.Series.convert_dtypes]\n",
    "\n",
    "planner = PipPlanner(device='cloud')\n",
    "\n",
    "planner.register_functions(functions)\n",
    "\n",
    "plan = planner.generate_plan(\"read csv file at path 'a.csv' and describe it\")\n",
    "\n",
    "print(plan)"
   ]
  }
 ],
 "metadata": {
  "kernelspec": {
   "display_name": "Python 3",
   "language": "python",
   "name": "python3"
  },
  "language_info": {
   "codemirror_mode": {
    "name": "ipython",
    "version": 3
   },
   "file_extension": ".py",
   "mimetype": "text/x-python",
   "name": "python",
   "nbconvert_exporter": "python",
   "pygments_lexer": "ipython3",
   "version": "3.10.14"
  }
 },
 "nbformat": 4,
 "nbformat_minor": 2
}
