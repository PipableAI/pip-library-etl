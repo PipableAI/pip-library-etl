{
 "cells": [
  {
   "cell_type": "code",
   "execution_count": 1,
   "metadata": {},
   "outputs": [],
   "source": [
    "from pip_library_etl import PipPlanner"
   ]
  },
  {
   "cell_type": "code",
   "execution_count": 2,
   "metadata": {},
   "outputs": [],
   "source": [
    "import pandas as pd\n",
    "\n",
    "functions = [pd.read_csv, pd.DataFrame.describe, pd.DataFrame.filter, pd.DataFrame.to_clipboard, pd.Series.abs, pd.Series.to_dict, pd.Series.convert_dtypes]\n",
    "\n",
    "planner = PipPlanner(device='cloud')\n",
    "\n",
    "planner.register_functions(functions)\n",
    "\n",
    "plan = planner.generate_plan(\"read csv file at path 'a.csv' and describe it\")"
   ]
  },
  {
   "cell_type": "code",
   "execution_count": 3,
   "metadata": {},
   "outputs": [
    {
     "name": "stdout",
     "output_type": "stream",
     "text": [
      "{\n",
      "    \"tasks\": [\n",
      "        {\n",
      "            \"task_id\": 1,\n",
      "            \"function_name\": \"pandas.read_csv\",\n",
      "            \"parameters\": [\n",
      "                {\n",
      "                    \"name\": \"filepath_or_buffer\",\n",
      "                    \"value\": \"a.csv\",\n",
      "                    \"description\": \"Path to the CSV file to be read\"\n",
      "                }\n",
      "            ],\n",
      "            \"outputs\": [\n",
      "                \"variable_1\"\n",
      "            ],\n",
      "            \"description\": \"Reads a CSV file into a DataFrame.\"\n",
      "        },\n",
      "        {\n",
      "            \"task_id\": 2,\n",
      "            \"function_name\": \"pandas.DataFrame.describe\",\n",
      "            \"parameters\": [\n",
      "                {\n",
      "                    \"name\": \"self\",\n",
      "                    \"value\": \"variable_1\",\n",
      "                    \"description\": \"DataFrame to describe\"\n",
      "                }\n",
      "            ],\n",
      "            \"outputs\": [\n",
      "                \"variable_2\"\n",
      "            ],\n",
      "            \"description\": \"Generates descriptive statistics of a DataFrame.\"\n",
      "        }\n",
      "    ]\n",
      "}\n"
     ]
    }
   ],
   "source": [
    "print(plan)"
   ]
  },
  {
   "cell_type": "code",
   "execution_count": null,
   "metadata": {},
   "outputs": [],
   "source": []
  }
 ],
 "metadata": {
  "kernelspec": {
   "display_name": "Python 3",
   "language": "python",
   "name": "python3"
  },
  "language_info": {
   "codemirror_mode": {
    "name": "ipython",
    "version": 3
   },
   "file_extension": ".py",
   "mimetype": "text/x-python",
   "name": "python",
   "nbconvert_exporter": "python",
   "pygments_lexer": "ipython3",
   "version": "3.10.13"
  }
 },
 "nbformat": 4,
 "nbformat_minor": 2
}
