{
 "cells": [
  {
   "cell_type": "markdown",
   "metadata": {},
   "source": [
    "# Examples using model hosted by PipableAI"
   ]
  },
  {
   "cell_type": "code",
   "execution_count": 1,
   "metadata": {},
   "outputs": [],
   "source": [
    "from pip_library_etl import PipEtl"
   ]
  },
  {
   "cell_type": "code",
   "execution_count": 2,
   "metadata": {},
   "outputs": [],
   "source": [
    "generator = PipEtl(device=\"cloud\")"
   ]
  },
  {
   "cell_type": "code",
   "execution_count": 6,
   "metadata": {},
   "outputs": [
    {
     "name": "stdout",
     "output_type": "stream",
     "text": [
      "Generated SQL:\n",
      "SELECT head.name FROM head WHERE head.born_state <> 'California';\n"
     ]
    }
   ],
   "source": [
    "instructions = \"\"\"\n",
    "1. In department table, column Budget_in_Billions is in billions, so 1 will represent 1 billion\n",
    "\"\"\"\n",
    "\n",
    "schema = f\"\"\"\n",
    "<schema>\n",
    "CREATE TABLE department (\n",
    "  Department_ID number,         -- Unique identifier for the department\n",
    "  Name text,                     -- Name of the department\n",
    "  Creation text,                 -- Date of creation or establishment\n",
    "  Ranking number,                -- Ranking of the department\n",
    "  Budget_in_Billions number,     -- Budget of the department in billions\n",
    "  Num_Employees number          -- Number of employees in the department\n",
    ");\n",
    "\n",
    "CREATE TABLE head (\n",
    "  head_ID number,                -- Unique identifier for the head\n",
    "  name text,                     -- Name of the head\n",
    "  born_state text,               -- State where the head was born\n",
    "  age number                     -- Age of the head\n",
    ");\n",
    "\n",
    "CREATE TABLE management (\n",
    "  department_ID number,          -- Foreign key referencing Department_ID in department table\n",
    "  head_ID number,                -- Foreign key referencing head_ID in head table\n",
    "  temporary_acting text          -- Indicates if the head is temporarily acting\n",
    ");\n",
    "</schema>\n",
    "\"\"\"\n",
    "\n",
    "question = \"What are the names of the heads who are born outside the California state ?\"\n",
    "\n",
    "query = generator.generate_sql(schema=schema, question=question, instructions=instructions)\n",
    "print(\"Generated SQL:\")\n",
    "print(query)"
   ]
  },
  {
   "cell_type": "code",
   "execution_count": 2,
   "metadata": {},
   "outputs": [
    {
     "name": "stdout",
     "output_type": "stream",
     "text": [
      "\n",
      "        \n",
      "make_get_req(path='https://example.com', data=variable_1, params={'weight': variable_3, 'width': 10}, headers={'Content-Type': 'application/json'}, absolute=True, not_json_response=True)\n",
      "        \n"
     ]
    }
   ],
   "source": [
    "docstring = \"\"\"\n",
    "Function Name: make_get_req\n",
    "Description: This function is used to make a GET request.\n",
    "Parameters:\n",
    "- path (str): The path of the URL to be requested.\n",
    "- data (dict): The data to be sent in the body of the request.\n",
    "- flags (dict): The flags to be sent in the request.\n",
    "- params (dict): The parameters to be sent in the request.\n",
    "- headers (dict): The headers to be sent in the request.\n",
    "- not_json_response (bool): OPTIONAL: If set to True, the function will return the raw response content instead of trying to parse it as JSON.\n",
    "- trailing (str): OPTIONAL: For wrapping slash symbol in the end of string.\n",
    "- absolute (bool): OPTIONAL: If set to True, the function will not prefix the URL with the base URL.\n",
    "- advanced_mode (bool): OPTIONAL: If set to True, the function will return the raw response instead of trying to parse it as JSON.\n",
    "Returns:\n",
    "- Union[str, dict, list, None]: The response content as a string, a dictionary, a list, or None if the response was not successful.\n",
    "\"\"\"\n",
    "\n",
    "question = \"\"\"\n",
    "Make a GET request for the URL parameter using variable_2. For the params parameter, use 'weight' as one of the keys with variable_3 as its value, and 'width' as another key with a value of 10. For the data parameter, use variable_1. Prefix the URL with the base URL, and ensure the response is in raw format.\n",
    "\"\"\"\n",
    "\n",
    "function_call = generator.generate_function_call(docstring=docstring, question=question)\n",
    "\n",
    "print(function_call)"
   ]
  },
  {
   "cell_type": "code",
   "execution_count": 8,
   "metadata": {},
   "outputs": [
    {
     "name": "stdout",
     "output_type": "stream",
     "text": [
      "\n",
      "            \n",
      "query_model(\"What is 2 + 2\", 200)\n",
      "\n",
      "            \n"
     ]
    }
   ],
   "source": [
    "code = \"\"\"\n",
    "def _query_model(prompt: str, max_new_tokens: int) -> str:\n",
    "    if device == \"cloud\":\n",
    "        payload = {\n",
    "            \"model_name\": \"PipableAI/pip-library-etl-1.3b\",\n",
    "            \"prompt\": prompt,\n",
    "            \"max_new_tokens\": max_new_tokens,\n",
    "        }\n",
    "        response = requests.request(\n",
    "            method=\"POST\", url=url, data=payload, timeout=120\n",
    "        )\n",
    "        if response.status_code == 200:\n",
    "            return json.loads(response.text)[\"response\"]\n",
    "        else:\n",
    "            raise Exception(f\"Error generating response using url.\")\n",
    "    else:\n",
    "        inputs = tokenizer(prompt, return_tensors=\"pt\").to(\"cuda\")\n",
    "        outputs = model.generate(**inputs, max_new_tokens=max_new_tokens)\n",
    "        return tokenizer.decode(outputs[0], skip_special_tokens=True)\n",
    "\"\"\"\n",
    "\n",
    "question = \"\"\"\n",
    "I want to query model with prompt \"What is 2 + 2\", and use 200 as maximum token limit.\n",
    "\"\"\"\n",
    "\n",
    "function_call = generator.generate_function_call(code=code, question=question)\n",
    "\n",
    "print(function_call)"
   ]
  },
  {
   "cell_type": "code",
   "execution_count": 3,
   "metadata": {},
   "outputs": [
    {
     "name": "stdout",
     "output_type": "stream",
     "text": [
      "Generated Docstring:\n",
      "\n",
      "            Description: This function divides a given number by 2.\n",
      "            Parameters:\n",
      "            - x (float): The input value to be divided by 2.\n",
      "            Returns:\n",
      "            - float: The result of x divided by 2.\n",
      "            Example:\n",
      "            divide_by_two(1.0)\n",
      "            \n"
     ]
    }
   ],
   "source": [
    "code_snippet = \"\"\"\n",
    "def example_function(x):\n",
    "    return x * 2\n",
    "\"\"\"\n",
    "\n",
    "docstring = generator.generate_docstring(code_snippet)\n",
    "print(\"Generated Docstring:\")\n",
    "print(docstring)"
   ]
  }
 ],
 "metadata": {
  "kernelspec": {
   "display_name": "Python 3",
   "language": "python",
   "name": "python3"
  },
  "language_info": {
   "codemirror_mode": {
    "name": "ipython",
    "version": 3
   },
   "file_extension": ".py",
   "mimetype": "text/x-python",
   "name": "python",
   "nbconvert_exporter": "python",
   "pygments_lexer": "ipython3",
   "version": "3.10.13"
  }
 },
 "nbformat": 4,
 "nbformat_minor": 2
}
